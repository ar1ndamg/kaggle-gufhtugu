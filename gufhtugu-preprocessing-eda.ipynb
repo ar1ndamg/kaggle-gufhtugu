{
 "cells": [
  {
   "cell_type": "code",
   "execution_count": 1,
   "metadata": {
    "_cell_guid": "b1076dfc-b9ad-4769-8c92-a6c4dae69d19",
    "_uuid": "8f2839f25d086af736a60e9eeb907d3b93b6e0e5",
    "execution": {
     "iopub.execute_input": "2021-01-26T11:58:37.404525Z",
     "iopub.status.busy": "2021-01-26T11:58:37.403863Z",
     "iopub.status.idle": "2021-01-26T11:58:37.416586Z",
     "shell.execute_reply": "2021-01-26T11:58:37.415643Z"
    },
    "papermill": {
     "duration": 0.060128,
     "end_time": "2021-01-26T11:58:37.416733",
     "exception": false,
     "start_time": "2021-01-26T11:58:37.356605",
     "status": "completed"
    },
    "tags": []
   },
   "outputs": [
    {
     "name": "stdout",
     "output_type": "stream",
     "text": [
      "/kaggle/input/gufhtugu-publications-dataset-challenge/GP Orders - 2.csv\n",
      "/kaggle/input/gufhtugu-publications-dataset-challenge/GP Orders - 4.csv\n"
     ]
    }
   ],
   "source": [
    "import numpy as np # linear algebra\n",
    "import pandas as pd # data processing, CSV file I/O (e.g. pd.read_csv)\n",
    "\n",
    "import os\n",
    "for dirname, _, filenames in os.walk('/kaggle/input'):\n",
    "    for filename in filenames:\n",
    "        print(os.path.join(dirname, filename))"
   ]
  },
  {
   "cell_type": "code",
   "execution_count": 2,
   "metadata": {
    "execution": {
     "iopub.execute_input": "2021-01-26T11:58:37.507229Z",
     "iopub.status.busy": "2021-01-26T11:58:37.506614Z",
     "iopub.status.idle": "2021-01-26T11:58:37.578871Z",
     "shell.execute_reply": "2021-01-26T11:58:37.579416Z"
    },
    "papermill": {
     "duration": 0.119357,
     "end_time": "2021-01-26T11:58:37.579565",
     "exception": false,
     "start_time": "2021-01-26T11:58:37.460208",
     "status": "completed"
    },
    "tags": []
   },
   "outputs": [],
   "source": [
    "data = pd.read_csv(\"/kaggle/input/gufhtugu-publications-dataset-challenge/GP Orders - 4.csv\", encoding=\"utf-8\")"
   ]
  },
  {
   "cell_type": "code",
   "execution_count": 3,
   "metadata": {
    "execution": {
     "iopub.execute_input": "2021-01-26T11:58:37.665863Z",
     "iopub.status.busy": "2021-01-26T11:58:37.665223Z",
     "iopub.status.idle": "2021-01-26T11:58:37.672723Z",
     "shell.execute_reply": "2021-01-26T11:58:37.672133Z"
    },
    "papermill": {
     "duration": 0.052125,
     "end_time": "2021-01-26T11:58:37.672827",
     "exception": false,
     "start_time": "2021-01-26T11:58:37.620702",
     "status": "completed"
    },
    "tags": []
   },
   "outputs": [
    {
     "data": {
      "text/plain": [
       "Index(['Order Number', 'Order Status', 'Book Name', 'Order Date',\n",
       "       'City (Billing)'],\n",
       "      dtype='object')"
      ]
     },
     "execution_count": 3,
     "metadata": {},
     "output_type": "execute_result"
    }
   ],
   "source": [
    "data.columns"
   ]
  },
  {
   "cell_type": "code",
   "execution_count": 4,
   "metadata": {
    "execution": {
     "iopub.execute_input": "2021-01-26T11:58:37.758099Z",
     "iopub.status.busy": "2021-01-26T11:58:37.757514Z",
     "iopub.status.idle": "2021-01-26T11:58:37.761448Z",
     "shell.execute_reply": "2021-01-26T11:58:37.761943Z"
    },
    "papermill": {
     "duration": 0.048579,
     "end_time": "2021-01-26T11:58:37.762071",
     "exception": false,
     "start_time": "2021-01-26T11:58:37.713492",
     "status": "completed"
    },
    "tags": []
   },
   "outputs": [],
   "source": [
    "data.columns = ['OrderNumber', 'OrderStatus', 'BookName', 'OrderDate',\n",
    "       'BillingCity']"
   ]
  },
  {
   "cell_type": "code",
   "execution_count": 5,
   "metadata": {
    "execution": {
     "iopub.execute_input": "2021-01-26T11:58:37.849093Z",
     "iopub.status.busy": "2021-01-26T11:58:37.848492Z",
     "iopub.status.idle": "2021-01-26T11:58:37.873734Z",
     "shell.execute_reply": "2021-01-26T11:58:37.873049Z"
    },
    "papermill": {
     "duration": 0.069368,
     "end_time": "2021-01-26T11:58:37.873864",
     "exception": false,
     "start_time": "2021-01-26T11:58:37.804496",
     "status": "completed"
    },
    "tags": []
   },
   "outputs": [
    {
     "data": {
      "text/html": [
       "<div>\n",
       "<style scoped>\n",
       "    .dataframe tbody tr th:only-of-type {\n",
       "        vertical-align: middle;\n",
       "    }\n",
       "\n",
       "    .dataframe tbody tr th {\n",
       "        vertical-align: top;\n",
       "    }\n",
       "\n",
       "    .dataframe thead th {\n",
       "        text-align: right;\n",
       "    }\n",
       "</style>\n",
       "<table border=\"1\" class=\"dataframe\">\n",
       "  <thead>\n",
       "    <tr style=\"text-align: right;\">\n",
       "      <th></th>\n",
       "      <th>OrderNumber</th>\n",
       "      <th>OrderStatus</th>\n",
       "      <th>BookName</th>\n",
       "      <th>OrderDate</th>\n",
       "      <th>BillingCity</th>\n",
       "    </tr>\n",
       "  </thead>\n",
       "  <tbody>\n",
       "    <tr>\n",
       "      <th>0</th>\n",
       "      <td>70978</td>\n",
       "      <td>Completed</td>\n",
       "      <td>Column Nigari Kese Sekhain</td>\n",
       "      <td>1/20/2021 17:43</td>\n",
       "      <td>Swat</td>\n",
       "    </tr>\n",
       "    <tr>\n",
       "      <th>1</th>\n",
       "      <td>70962</td>\n",
       "      <td>Completed</td>\n",
       "      <td>انٹرنیٹ سے پیسہ کمائیں</td>\n",
       "      <td>1/20/2021 13:37</td>\n",
       "      <td>Karachi</td>\n",
       "    </tr>\n",
       "    <tr>\n",
       "      <th>2</th>\n",
       "      <td>70960</td>\n",
       "      <td>Completed</td>\n",
       "      <td>Justju ka safar-1/Waqfa e Pareshani</td>\n",
       "      <td>1/20/2021 10:48</td>\n",
       "      <td>Karachi</td>\n",
       "    </tr>\n",
       "    <tr>\n",
       "      <th>3</th>\n",
       "      <td>70959</td>\n",
       "      <td>Completed</td>\n",
       "      <td>R ka Taaruf</td>\n",
       "      <td>1/20/2021 10:32</td>\n",
       "      <td>Karachi</td>\n",
       "    </tr>\n",
       "    <tr>\n",
       "      <th>4</th>\n",
       "      <td>70958</td>\n",
       "      <td>Completed</td>\n",
       "      <td>انٹرنیٹ سے پیسہ کمائیں</td>\n",
       "      <td>1/20/2021 10:29</td>\n",
       "      <td>Karachi</td>\n",
       "    </tr>\n",
       "  </tbody>\n",
       "</table>\n",
       "</div>"
      ],
      "text/plain": [
       "   OrderNumber OrderStatus                             BookName  \\\n",
       "0        70978   Completed           Column Nigari Kese Sekhain   \n",
       "1        70962   Completed               انٹرنیٹ سے پیسہ کمائیں   \n",
       "2        70960   Completed  Justju ka safar-1/Waqfa e Pareshani   \n",
       "3        70959   Completed                          R ka Taaruf   \n",
       "4        70958   Completed               انٹرنیٹ سے پیسہ کمائیں   \n",
       "\n",
       "         OrderDate BillingCity  \n",
       "0  1/20/2021 17:43        Swat  \n",
       "1  1/20/2021 13:37     Karachi  \n",
       "2  1/20/2021 10:48     Karachi  \n",
       "3  1/20/2021 10:32     Karachi  \n",
       "4  1/20/2021 10:29     Karachi  "
      ]
     },
     "execution_count": 5,
     "metadata": {},
     "output_type": "execute_result"
    }
   ],
   "source": [
    "data.head()"
   ]
  },
  {
   "cell_type": "code",
   "execution_count": 6,
   "metadata": {
    "execution": {
     "iopub.execute_input": "2021-01-26T11:58:38.008054Z",
     "iopub.status.busy": "2021-01-26T11:58:38.007108Z",
     "iopub.status.idle": "2021-01-26T11:58:38.011664Z",
     "shell.execute_reply": "2021-01-26T11:58:38.010930Z"
    },
    "papermill": {
     "duration": 0.074521,
     "end_time": "2021-01-26T11:58:38.011788",
     "exception": false,
     "start_time": "2021-01-26T11:58:37.937267",
     "status": "completed"
    },
    "tags": []
   },
   "outputs": [],
   "source": [
    "data.set_index(\"OrderNumber\", inplace=True)"
   ]
  },
  {
   "cell_type": "markdown",
   "metadata": {
    "papermill": {
     "duration": 0.0635,
     "end_time": "2021-01-26T11:58:38.139069",
     "exception": false,
     "start_time": "2021-01-26T11:58:38.075569",
     "status": "completed"
    },
    "tags": []
   },
   "source": [
    "##  Number of rows and columns in this data"
   ]
  },
  {
   "cell_type": "code",
   "execution_count": 7,
   "metadata": {
    "execution": {
     "iopub.execute_input": "2021-01-26T11:58:38.273544Z",
     "iopub.status.busy": "2021-01-26T11:58:38.272672Z",
     "iopub.status.idle": "2021-01-26T11:58:38.275768Z",
     "shell.execute_reply": "2021-01-26T11:58:38.276456Z"
    },
    "papermill": {
     "duration": 0.072879,
     "end_time": "2021-01-26T11:58:38.276606",
     "exception": false,
     "start_time": "2021-01-26T11:58:38.203727",
     "status": "completed"
    },
    "tags": []
   },
   "outputs": [
    {
     "data": {
      "text/plain": [
       "(19187, 4)"
      ]
     },
     "execution_count": 7,
     "metadata": {},
     "output_type": "execute_result"
    }
   ],
   "source": [
    "data.shape"
   ]
  },
  {
   "cell_type": "markdown",
   "metadata": {
    "papermill": {
     "duration": 0.064937,
     "end_time": "2021-01-26T11:58:38.406560",
     "exception": false,
     "start_time": "2021-01-26T11:58:38.341623",
     "status": "completed"
    },
    "tags": []
   },
   "source": [
    "# Data Cleaning and pre-processing"
   ]
  },
  {
   "cell_type": "markdown",
   "metadata": {
    "papermill": {
     "duration": 0.064306,
     "end_time": "2021-01-26T11:58:38.535748",
     "exception": false,
     "start_time": "2021-01-26T11:58:38.471442",
     "status": "completed"
    },
    "tags": []
   },
   "source": [
    "Dealing with null values"
   ]
  },
  {
   "cell_type": "code",
   "execution_count": 8,
   "metadata": {
    "execution": {
     "iopub.execute_input": "2021-01-26T11:58:38.669175Z",
     "iopub.status.busy": "2021-01-26T11:58:38.668378Z",
     "iopub.status.idle": "2021-01-26T11:58:38.678787Z",
     "shell.execute_reply": "2021-01-26T11:58:38.679485Z"
    },
    "papermill": {
     "duration": 0.079181,
     "end_time": "2021-01-26T11:58:38.679641",
     "exception": false,
     "start_time": "2021-01-26T11:58:38.600460",
     "status": "completed"
    },
    "tags": []
   },
   "outputs": [
    {
     "data": {
      "text/plain": [
       "OrderStatus    0\n",
       "BookName       2\n",
       "OrderDate      0\n",
       "BillingCity    1\n",
       "dtype: int64"
      ]
     },
     "execution_count": 8,
     "metadata": {},
     "output_type": "execute_result"
    }
   ],
   "source": [
    "data.isna().sum()"
   ]
  },
  {
   "cell_type": "markdown",
   "metadata": {
    "papermill": {
     "duration": 0.064916,
     "end_time": "2021-01-26T11:58:38.810904",
     "exception": false,
     "start_time": "2021-01-26T11:58:38.745988",
     "status": "completed"
    },
    "tags": []
   },
   "source": [
    "As there are only 3 missing cells in the whole data frame. We will be dropping those corresponding rows."
   ]
  },
  {
   "cell_type": "code",
   "execution_count": 9,
   "metadata": {
    "execution": {
     "iopub.execute_input": "2021-01-26T11:58:38.945576Z",
     "iopub.status.busy": "2021-01-26T11:58:38.944762Z",
     "iopub.status.idle": "2021-01-26T11:58:38.985150Z",
     "shell.execute_reply": "2021-01-26T11:58:38.984424Z"
    },
    "papermill": {
     "duration": 0.108878,
     "end_time": "2021-01-26T11:58:38.985304",
     "exception": false,
     "start_time": "2021-01-26T11:58:38.876426",
     "status": "completed"
    },
    "tags": []
   },
   "outputs": [
    {
     "data": {
      "text/plain": [
       "OrderStatus    0\n",
       "BookName       0\n",
       "OrderDate      0\n",
       "BillingCity    0\n",
       "dtype: int64"
      ]
     },
     "execution_count": 9,
     "metadata": {},
     "output_type": "execute_result"
    }
   ],
   "source": [
    "data.dropna(inplace=True)\n",
    "data.isna().sum()"
   ]
  },
  {
   "cell_type": "code",
   "execution_count": 10,
   "metadata": {
    "execution": {
     "iopub.execute_input": "2021-01-26T11:58:39.121770Z",
     "iopub.status.busy": "2021-01-26T11:58:39.120589Z",
     "iopub.status.idle": "2021-01-26T11:58:39.127801Z",
     "shell.execute_reply": "2021-01-26T11:58:39.127106Z"
    },
    "papermill": {
     "duration": 0.076835,
     "end_time": "2021-01-26T11:58:39.127936",
     "exception": false,
     "start_time": "2021-01-26T11:58:39.051101",
     "status": "completed"
    },
    "tags": []
   },
   "outputs": [
    {
     "data": {
      "text/plain": [
       "(19184, 4)"
      ]
     },
     "execution_count": 10,
     "metadata": {},
     "output_type": "execute_result"
    }
   ],
   "source": [
    "# New shape of the data frame\n",
    "data.shape"
   ]
  },
  {
   "cell_type": "code",
   "execution_count": 11,
   "metadata": {
    "execution": {
     "iopub.execute_input": "2021-01-26T11:58:39.276702Z",
     "iopub.status.busy": "2021-01-26T11:58:39.275862Z",
     "iopub.status.idle": "2021-01-26T11:58:39.282315Z",
     "shell.execute_reply": "2021-01-26T11:58:39.281747Z"
    },
    "papermill": {
     "duration": 0.086769,
     "end_time": "2021-01-26T11:58:39.282421",
     "exception": false,
     "start_time": "2021-01-26T11:58:39.195652",
     "status": "completed"
    },
    "tags": []
   },
   "outputs": [
    {
     "data": {
      "text/html": [
       "<div>\n",
       "<style scoped>\n",
       "    .dataframe tbody tr th:only-of-type {\n",
       "        vertical-align: middle;\n",
       "    }\n",
       "\n",
       "    .dataframe tbody tr th {\n",
       "        vertical-align: top;\n",
       "    }\n",
       "\n",
       "    .dataframe thead th {\n",
       "        text-align: right;\n",
       "    }\n",
       "</style>\n",
       "<table border=\"1\" class=\"dataframe\">\n",
       "  <thead>\n",
       "    <tr style=\"text-align: right;\">\n",
       "      <th></th>\n",
       "      <th>OrderStatus</th>\n",
       "      <th>BookName</th>\n",
       "      <th>OrderDate</th>\n",
       "      <th>BillingCity</th>\n",
       "    </tr>\n",
       "    <tr>\n",
       "      <th>OrderNumber</th>\n",
       "      <th></th>\n",
       "      <th></th>\n",
       "      <th></th>\n",
       "      <th></th>\n",
       "    </tr>\n",
       "  </thead>\n",
       "  <tbody>\n",
       "    <tr>\n",
       "      <th>70978</th>\n",
       "      <td>Completed</td>\n",
       "      <td>Column Nigari Kese Sekhain</td>\n",
       "      <td>1/20/2021 17:43</td>\n",
       "      <td>Swat</td>\n",
       "    </tr>\n",
       "    <tr>\n",
       "      <th>70962</th>\n",
       "      <td>Completed</td>\n",
       "      <td>انٹرنیٹ سے پیسہ کمائیں</td>\n",
       "      <td>1/20/2021 13:37</td>\n",
       "      <td>Karachi</td>\n",
       "    </tr>\n",
       "    <tr>\n",
       "      <th>70960</th>\n",
       "      <td>Completed</td>\n",
       "      <td>Justju ka safar-1/Waqfa e Pareshani</td>\n",
       "      <td>1/20/2021 10:48</td>\n",
       "      <td>Karachi</td>\n",
       "    </tr>\n",
       "    <tr>\n",
       "      <th>70959</th>\n",
       "      <td>Completed</td>\n",
       "      <td>R ka Taaruf</td>\n",
       "      <td>1/20/2021 10:32</td>\n",
       "      <td>Karachi</td>\n",
       "    </tr>\n",
       "    <tr>\n",
       "      <th>70958</th>\n",
       "      <td>Completed</td>\n",
       "      <td>انٹرنیٹ سے پیسہ کمائیں</td>\n",
       "      <td>1/20/2021 10:29</td>\n",
       "      <td>Karachi</td>\n",
       "    </tr>\n",
       "  </tbody>\n",
       "</table>\n",
       "</div>"
      ],
      "text/plain": [
       "            OrderStatus                             BookName        OrderDate  \\\n",
       "OrderNumber                                                                     \n",
       "70978         Completed           Column Nigari Kese Sekhain  1/20/2021 17:43   \n",
       "70962         Completed               انٹرنیٹ سے پیسہ کمائیں  1/20/2021 13:37   \n",
       "70960         Completed  Justju ka safar-1/Waqfa e Pareshani  1/20/2021 10:48   \n",
       "70959         Completed                          R ka Taaruf  1/20/2021 10:32   \n",
       "70958         Completed               انٹرنیٹ سے پیسہ کمائیں  1/20/2021 10:29   \n",
       "\n",
       "            BillingCity  \n",
       "OrderNumber              \n",
       "70978              Swat  \n",
       "70962           Karachi  \n",
       "70960           Karachi  \n",
       "70959           Karachi  \n",
       "70958           Karachi  "
      ]
     },
     "execution_count": 11,
     "metadata": {},
     "output_type": "execute_result"
    }
   ],
   "source": [
    "data.head()"
   ]
  },
  {
   "cell_type": "markdown",
   "metadata": {
    "papermill": {
     "duration": 0.044925,
     "end_time": "2021-01-26T11:58:39.372086",
     "exception": false,
     "start_time": "2021-01-26T11:58:39.327161",
     "status": "completed"
    },
    "tags": []
   },
   "source": [
    "Let's normalize the BookName and BillingCity column by lower casing it and by strpping any extra spaces"
   ]
  },
  {
   "cell_type": "code",
   "execution_count": 12,
   "metadata": {
    "execution": {
     "iopub.execute_input": "2021-01-26T11:58:39.496314Z",
     "iopub.status.busy": "2021-01-26T11:58:39.489840Z",
     "iopub.status.idle": "2021-01-26T11:58:39.499807Z",
     "shell.execute_reply": "2021-01-26T11:58:39.499184Z"
    },
    "papermill": {
     "duration": 0.082887,
     "end_time": "2021-01-26T11:58:39.499910",
     "exception": false,
     "start_time": "2021-01-26T11:58:39.417023",
     "status": "completed"
    },
    "tags": []
   },
   "outputs": [],
   "source": [
    "data[\"BookName\"] = data.BookName.apply(lambda name: name.lower().strip())\n",
    "data[\"BillingCity\"] = data.BillingCity.apply(lambda city: city.lower().replace(\"/\", \" \").replace(\",\", \" \"). replace(\".\", \" \").strip())"
   ]
  },
  {
   "cell_type": "markdown",
   "metadata": {
    "papermill": {
     "duration": 0.044222,
     "end_time": "2021-01-26T11:58:39.589642",
     "exception": false,
     "start_time": "2021-01-26T11:58:39.545420",
     "status": "completed"
    },
    "tags": []
   },
   "source": [
    "The bookname contains more than 1 books in some cases(Ex. OrderNumber 70960). We need to separate those book names and create new rows."
   ]
  },
  {
   "cell_type": "code",
   "execution_count": 13,
   "metadata": {
    "execution": {
     "iopub.execute_input": "2021-01-26T11:58:39.757540Z",
     "iopub.status.busy": "2021-01-26T11:58:39.752537Z",
     "iopub.status.idle": "2021-01-26T11:58:39.823444Z",
     "shell.execute_reply": "2021-01-26T11:58:39.822749Z"
    },
    "papermill": {
     "duration": 0.188538,
     "end_time": "2021-01-26T11:58:39.823554",
     "exception": false,
     "start_time": "2021-01-26T11:58:39.635016",
     "status": "completed"
    },
    "tags": []
   },
   "outputs": [],
   "source": [
    "data = data.assign(BookName = data.BookName.str.split(\"/\")).explode(\"BookName\")"
   ]
  },
  {
   "cell_type": "code",
   "execution_count": 14,
   "metadata": {
    "execution": {
     "iopub.execute_input": "2021-01-26T11:58:39.929434Z",
     "iopub.status.busy": "2021-01-26T11:58:39.926828Z",
     "iopub.status.idle": "2021-01-26T11:58:39.933937Z",
     "shell.execute_reply": "2021-01-26T11:58:39.933048Z"
    },
    "papermill": {
     "duration": 0.06442,
     "end_time": "2021-01-26T11:58:39.934045",
     "exception": false,
     "start_time": "2021-01-26T11:58:39.869625",
     "status": "completed"
    },
    "tags": []
   },
   "outputs": [
    {
     "data": {
      "text/plain": [
       "OrderStatus    0\n",
       "BookName       0\n",
       "OrderDate      0\n",
       "BillingCity    0\n",
       "dtype: int64"
      ]
     },
     "execution_count": 14,
     "metadata": {},
     "output_type": "execute_result"
    }
   ],
   "source": [
    "data.isna().sum()"
   ]
  },
  {
   "cell_type": "code",
   "execution_count": 15,
   "metadata": {
    "execution": {
     "iopub.execute_input": "2021-01-26T11:58:40.033215Z",
     "iopub.status.busy": "2021-01-26T11:58:40.032559Z",
     "iopub.status.idle": "2021-01-26T11:58:40.036871Z",
     "shell.execute_reply": "2021-01-26T11:58:40.037401Z"
    },
    "papermill": {
     "duration": 0.057448,
     "end_time": "2021-01-26T11:58:40.037530",
     "exception": false,
     "start_time": "2021-01-26T11:58:39.980082",
     "status": "completed"
    },
    "tags": []
   },
   "outputs": [
    {
     "data": {
      "text/plain": [
       "OrderStatus    object\n",
       "BookName       object\n",
       "OrderDate      object\n",
       "BillingCity    object\n",
       "dtype: object"
      ]
     },
     "execution_count": 15,
     "metadata": {},
     "output_type": "execute_result"
    }
   ],
   "source": [
    "data.dtypes"
   ]
  },
  {
   "cell_type": "markdown",
   "metadata": {
    "papermill": {
     "duration": 0.046152,
     "end_time": "2021-01-26T11:58:40.130358",
     "exception": false,
     "start_time": "2021-01-26T11:58:40.084206",
     "status": "completed"
    },
    "tags": []
   },
   "source": [
    "Let's convert the OrderDate to datetime "
   ]
  },
  {
   "cell_type": "code",
   "execution_count": 16,
   "metadata": {
    "execution": {
     "iopub.execute_input": "2021-01-26T11:58:40.233215Z",
     "iopub.status.busy": "2021-01-26T11:58:40.232623Z",
     "iopub.status.idle": "2021-01-26T11:58:40.371051Z",
     "shell.execute_reply": "2021-01-26T11:58:40.370515Z"
    },
    "papermill": {
     "duration": 0.194796,
     "end_time": "2021-01-26T11:58:40.371173",
     "exception": false,
     "start_time": "2021-01-26T11:58:40.176377",
     "status": "completed"
    },
    "tags": []
   },
   "outputs": [],
   "source": [
    "# using infer_datetime_format=True as it is faster\n",
    "data[\"OrderDate\"] = pd.to_datetime(data[\"OrderDate\"], infer_datetime_format=True)"
   ]
  },
  {
   "cell_type": "code",
   "execution_count": 17,
   "metadata": {
    "execution": {
     "iopub.execute_input": "2021-01-26T11:58:40.481394Z",
     "iopub.status.busy": "2021-01-26T11:58:40.480631Z",
     "iopub.status.idle": "2021-01-26T11:58:40.489125Z",
     "shell.execute_reply": "2021-01-26T11:58:40.488555Z"
    },
    "papermill": {
     "duration": 0.071908,
     "end_time": "2021-01-26T11:58:40.489249",
     "exception": false,
     "start_time": "2021-01-26T11:58:40.417341",
     "status": "completed"
    },
    "tags": []
   },
   "outputs": [
    {
     "data": {
      "text/html": [
       "<div>\n",
       "<style scoped>\n",
       "    .dataframe tbody tr th:only-of-type {\n",
       "        vertical-align: middle;\n",
       "    }\n",
       "\n",
       "    .dataframe tbody tr th {\n",
       "        vertical-align: top;\n",
       "    }\n",
       "\n",
       "    .dataframe thead th {\n",
       "        text-align: right;\n",
       "    }\n",
       "</style>\n",
       "<table border=\"1\" class=\"dataframe\">\n",
       "  <thead>\n",
       "    <tr style=\"text-align: right;\">\n",
       "      <th></th>\n",
       "      <th>OrderStatus</th>\n",
       "      <th>BookName</th>\n",
       "      <th>OrderDate</th>\n",
       "      <th>BillingCity</th>\n",
       "    </tr>\n",
       "    <tr>\n",
       "      <th>OrderNumber</th>\n",
       "      <th></th>\n",
       "      <th></th>\n",
       "      <th></th>\n",
       "      <th></th>\n",
       "    </tr>\n",
       "  </thead>\n",
       "  <tbody>\n",
       "    <tr>\n",
       "      <th>70978</th>\n",
       "      <td>Completed</td>\n",
       "      <td>column nigari kese sekhain</td>\n",
       "      <td>2021-01-20 17:43:00</td>\n",
       "      <td>swat</td>\n",
       "    </tr>\n",
       "    <tr>\n",
       "      <th>70962</th>\n",
       "      <td>Completed</td>\n",
       "      <td>انٹرنیٹ سے پیسہ کمائیں</td>\n",
       "      <td>2021-01-20 13:37:00</td>\n",
       "      <td>karachi</td>\n",
       "    </tr>\n",
       "    <tr>\n",
       "      <th>70960</th>\n",
       "      <td>Completed</td>\n",
       "      <td>justju ka safar-1</td>\n",
       "      <td>2021-01-20 10:48:00</td>\n",
       "      <td>karachi</td>\n",
       "    </tr>\n",
       "    <tr>\n",
       "      <th>70960</th>\n",
       "      <td>Completed</td>\n",
       "      <td>waqfa e pareshani</td>\n",
       "      <td>2021-01-20 10:48:00</td>\n",
       "      <td>karachi</td>\n",
       "    </tr>\n",
       "    <tr>\n",
       "      <th>70959</th>\n",
       "      <td>Completed</td>\n",
       "      <td>r ka taaruf</td>\n",
       "      <td>2021-01-20 10:32:00</td>\n",
       "      <td>karachi</td>\n",
       "    </tr>\n",
       "    <tr>\n",
       "      <th>...</th>\n",
       "      <td>...</td>\n",
       "      <td>...</td>\n",
       "      <td>...</td>\n",
       "      <td>...</td>\n",
       "    </tr>\n",
       "    <tr>\n",
       "      <th>310</th>\n",
       "      <td>Returned</td>\n",
       "      <td>kaggle for begginers</td>\n",
       "      <td>2019-10-03 16:42:00</td>\n",
       "      <td>rawalpindi</td>\n",
       "    </tr>\n",
       "    <tr>\n",
       "      <th>309</th>\n",
       "      <td>Completed</td>\n",
       "      <td>kaggle for begginers</td>\n",
       "      <td>2019-10-03 16:09:00</td>\n",
       "      <td>hyderabad</td>\n",
       "    </tr>\n",
       "    <tr>\n",
       "      <th>309</th>\n",
       "      <td>Completed</td>\n",
       "      <td>bitcoin blockchain aur crypto currency - free ...</td>\n",
       "      <td>2019-10-03 16:09:00</td>\n",
       "      <td>hyderabad</td>\n",
       "    </tr>\n",
       "    <tr>\n",
       "      <th>308</th>\n",
       "      <td>Completed</td>\n",
       "      <td>kaggle for begginers</td>\n",
       "      <td>2019-10-03 15:54:00</td>\n",
       "      <td>rawalpindi</td>\n",
       "    </tr>\n",
       "    <tr>\n",
       "      <th>307</th>\n",
       "      <td>Completed</td>\n",
       "      <td>bitcoin blockchain aur crypto currency - free ...</td>\n",
       "      <td>2019-10-03 15:03:00</td>\n",
       "      <td>faisalabad</td>\n",
       "    </tr>\n",
       "  </tbody>\n",
       "</table>\n",
       "<p>33091 rows × 4 columns</p>\n",
       "</div>"
      ],
      "text/plain": [
       "            OrderStatus                                           BookName  \\\n",
       "OrderNumber                                                                  \n",
       "70978         Completed                         column nigari kese sekhain   \n",
       "70962         Completed                             انٹرنیٹ سے پیسہ کمائیں   \n",
       "70960         Completed                                  justju ka safar-1   \n",
       "70960         Completed                                  waqfa e pareshani   \n",
       "70959         Completed                                        r ka taaruf   \n",
       "...                 ...                                                ...   \n",
       "310            Returned                               kaggle for begginers   \n",
       "309           Completed                               kaggle for begginers   \n",
       "309           Completed  bitcoin blockchain aur crypto currency - free ...   \n",
       "308           Completed                               kaggle for begginers   \n",
       "307           Completed  bitcoin blockchain aur crypto currency - free ...   \n",
       "\n",
       "                      OrderDate BillingCity  \n",
       "OrderNumber                                  \n",
       "70978       2021-01-20 17:43:00        swat  \n",
       "70962       2021-01-20 13:37:00     karachi  \n",
       "70960       2021-01-20 10:48:00     karachi  \n",
       "70960       2021-01-20 10:48:00     karachi  \n",
       "70959       2021-01-20 10:32:00     karachi  \n",
       "...                         ...         ...  \n",
       "310         2019-10-03 16:42:00  rawalpindi  \n",
       "309         2019-10-03 16:09:00   hyderabad  \n",
       "309         2019-10-03 16:09:00   hyderabad  \n",
       "308         2019-10-03 15:54:00  rawalpindi  \n",
       "307         2019-10-03 15:03:00  faisalabad  \n",
       "\n",
       "[33091 rows x 4 columns]"
      ]
     },
     "execution_count": 17,
     "metadata": {},
     "output_type": "execute_result"
    }
   ],
   "source": [
    "data"
   ]
  },
  {
   "cell_type": "markdown",
   "metadata": {
    "papermill": {
     "duration": 0.046801,
     "end_time": "2021-01-26T11:58:40.584349",
     "exception": false,
     "start_time": "2021-01-26T11:58:40.537548",
     "status": "completed"
    },
    "tags": []
   },
   "source": [
    "Cleaning the city column"
   ]
  },
  {
   "cell_type": "code",
   "execution_count": 18,
   "metadata": {
    "execution": {
     "iopub.execute_input": "2021-01-26T11:58:40.695766Z",
     "iopub.status.busy": "2021-01-26T11:58:40.690839Z",
     "iopub.status.idle": "2021-01-26T11:58:40.706267Z",
     "shell.execute_reply": "2021-01-26T11:58:40.705710Z"
    },
    "papermill": {
     "duration": 0.075427,
     "end_time": "2021-01-26T11:58:40.706401",
     "exception": false,
     "start_time": "2021-01-26T11:58:40.630974",
     "status": "completed"
    },
    "tags": []
   },
   "outputs": [],
   "source": [
    "# Source: https://simplemaps.com/data/pk-cities\n",
    "\n",
    "pakistan_top_cities = ['karachi', 'lahore', 'sialkot', 'faisalabad', 'rawalpindi',\n",
    "       'peshawar', 'saidu sharif', 'multan', 'gujranwala', 'islamabad',\n",
    "       'quetta', 'bahawalpur', 'sargodha', 'new mirpur', 'chiniot',\n",
    "       'sukkur', 'larkana', 'shekhupura', 'jhang', 'rahimyar khan',\n",
    "       'gujrat', 'kasur', 'mardan', 'mingaora', 'dera ghazi khan',\"dgk\"\n",
    "       'nawabshah', 'sahiwal', 'mirpur khas', 'okara', 'burewala',\n",
    "       'jacobabad', 'saddiqabad', 'kohat', 'muridke', 'muzaffargarh',\n",
    "       'khanpur', 'gojra', 'bahauddin', 'abbottabad', 'dadu',\n",
    "       'khuzdar', 'pakpattan', 'tando allahyar', 'vihari', 'jaranwala',\n",
    "       'kamalia', 'kot addu', 'nowshera', 'swabi', 'dera ismail khan',\n",
    "       'chaman', 'charsadda', 'kandhkot', 'hasilpur', 'muzaffarabad',\n",
    "       'mianwali', 'jalalpur\",\"jattan', 'bhakkar', 'zhob', 'kharian',\n",
    "       'mian channun', 'jamshoro', 'pattoki', 'harunabad',\n",
    "       'toba tek singh', 'shakargarh', 'hujra\", \"shah\", \"muqim', 'kabirwala',\n",
    "       'mansehra', 'lala musa', 'nankana sahib', 'bannu', 'timargara',\n",
    "       'parachinar', 'gwadar', 'abdul hakim', 'hassan\", \"abdal', 'tank',\n",
    "       'hangu', 'risalpur cantonment', 'karak', 'kundian', 'umarkot',\n",
    "       'chitral', 'dainyor', 'kulachi', 'kotli', 'gilgit',\n",
    "       'hyderabad', 'narowal', 'khairpur', \"mir’s\", 'khanewal', 'jhelum',\n",
    "       'haripur', 'shikarpur', 'rawala kot', 'hafizabad', 'lodhran',\n",
    "       'malakand', 'attock', 'batgram', 'matiari', 'ghotki',\n",
    "       'firoz','naushahro', 'alpurai', 'bagh', 'daggar', 'bahawalnagar',\n",
    "       'leiah', 'tando muhammad khan', 'chakwal', 'khushab', 'badin',\n",
    "       'lakki', 'rajanpur', 'dera allahyar', 'shahdad kot', 'pishin',\n",
    "       'sanghar', 'upper dir', 'thatta', 'dera murad jamali', 'kohlu',\n",
    "       'mastung', 'dasu', 'athmuqam', 'loralai', 'barkhan',\n",
    "       'musa khel bazar', 'ziarat', 'gandava', 'sibi', 'dera bugti',\n",
    "       'eidgah', 'turbat', 'uthal', 'chilas', 'kalat', 'panjgur', 'gakuch',\n",
    "       'qila', 'saifullah', 'kharan', 'aliabad', 'awaran', 'dalbandin']"
   ]
  },
  {
   "cell_type": "code",
   "execution_count": 19,
   "metadata": {
    "execution": {
     "iopub.execute_input": "2021-01-26T11:58:40.823876Z",
     "iopub.status.busy": "2021-01-26T11:58:40.811109Z",
     "iopub.status.idle": "2021-01-26T11:58:40.883024Z",
     "shell.execute_reply": "2021-01-26T11:58:40.883525Z"
    },
    "papermill": {
     "duration": 0.129492,
     "end_time": "2021-01-26T11:58:40.883662",
     "exception": false,
     "start_time": "2021-01-26T11:58:40.754170",
     "status": "completed"
    },
    "tags": []
   },
   "outputs": [
    {
     "data": {
      "text/plain": [
       "array(['fateh jang', 'gagoo mandi', 'meer hazar', 'upper chitral',\n",
       "       'chowk azam', 'l???? ????', 'lahore  pakistan', 'bahrya town',\n",
       "       'mandi bahahudin', '???? ???????', 'forward kahuta', 'dir upper',\n",
       "       'dir wari', 'islaam abad', 'morr eminabad', 'kot sultan',\n",
       "       'swabi peshawar', 'sakrand dist:nawabshah', \"khairpur mir's\",\n",
       "       'olding  skardu', 'karor pakka', 'rawal pindi', 'sanghar city',\n",
       "       'wah cantt', 'lyari  karachi', 'faisal abad', 'upper dir',\n",
       "       'sialkot pasrur', 'pindi gheb', 'taxila  rawalpindi'], dtype=object)"
      ]
     },
     "execution_count": 19,
     "metadata": {},
     "output_type": "execute_result"
    }
   ],
   "source": [
    "single_word_cities = data[data[\"BillingCity\"].str.split().apply(len) == 2][\"BillingCity\"].unique()\n",
    "single_word_cities[:30]"
   ]
  },
  {
   "cell_type": "code",
   "execution_count": 20,
   "metadata": {
    "execution": {
     "iopub.execute_input": "2021-01-26T11:58:40.990677Z",
     "iopub.status.busy": "2021-01-26T11:58:40.989906Z",
     "iopub.status.idle": "2021-01-26T11:58:42.584515Z",
     "shell.execute_reply": "2021-01-26T11:58:42.583741Z"
    },
    "papermill": {
     "duration": 1.653759,
     "end_time": "2021-01-26T11:58:42.584655",
     "exception": false,
     "start_time": "2021-01-26T11:58:40.930896",
     "status": "completed"
    },
    "tags": []
   },
   "outputs": [],
   "source": [
    "import nltk\n",
    "def clean_city(row):\n",
    "    address = row.BillingCity.split()\n",
    "    add = set()\n",
    "    for a in address:\n",
    "        a = a.strip()\n",
    "        if a:\n",
    "            add.add(a)\n",
    "    for city in pakistan_top_cities:\n",
    "        if row.BillingCity.__contains__(city):\n",
    "            return city\n",
    "        \n",
    "    for a in add:\n",
    "        for c in pakistan_top_cities:\n",
    "            if nltk.edit_distance(a, c) <= 3: # considering spelling mistakes upto 3 letters\n",
    "                return c\n",
    "    return row.BillingCity"
   ]
  },
  {
   "cell_type": "code",
   "execution_count": 21,
   "metadata": {
    "execution": {
     "iopub.execute_input": "2021-01-26T11:58:42.742070Z",
     "iopub.status.busy": "2021-01-26T11:58:42.738491Z",
     "iopub.status.idle": "2021-01-26T11:58:42.749401Z",
     "shell.execute_reply": "2021-01-26T11:58:42.748712Z"
    },
    "papermill": {
     "duration": 0.092605,
     "end_time": "2021-01-26T11:58:42.749513",
     "exception": false,
     "start_time": "2021-01-26T11:58:42.656908",
     "status": "completed"
    },
    "tags": []
   },
   "outputs": [
    {
     "data": {
      "text/plain": [
       "3449"
      ]
     },
     "execution_count": 21,
     "metadata": {},
     "output_type": "execute_result"
    }
   ],
   "source": [
    "# Number of cities before ceaning\n",
    "data[\"BillingCity\"].nunique()"
   ]
  },
  {
   "cell_type": "code",
   "execution_count": 22,
   "metadata": {
    "execution": {
     "iopub.execute_input": "2021-01-26T11:58:42.853549Z",
     "iopub.status.busy": "2021-01-26T11:58:42.852912Z",
     "iopub.status.idle": "2021-01-26T12:00:05.393126Z",
     "shell.execute_reply": "2021-01-26T12:00:05.392421Z"
    },
    "papermill": {
     "duration": 82.594245,
     "end_time": "2021-01-26T12:00:05.393240",
     "exception": false,
     "start_time": "2021-01-26T11:58:42.798995",
     "status": "completed"
    },
    "tags": []
   },
   "outputs": [],
   "source": [
    "data[\"BillingCity\"] = data.apply(clean_city, axis=1)"
   ]
  },
  {
   "cell_type": "code",
   "execution_count": 23,
   "metadata": {
    "execution": {
     "iopub.execute_input": "2021-01-26T12:00:05.499733Z",
     "iopub.status.busy": "2021-01-26T12:00:05.499045Z",
     "iopub.status.idle": "2021-01-26T12:00:05.506233Z",
     "shell.execute_reply": "2021-01-26T12:00:05.506738Z"
    },
    "papermill": {
     "duration": 0.063871,
     "end_time": "2021-01-26T12:00:05.506875",
     "exception": false,
     "start_time": "2021-01-26T12:00:05.443004",
     "status": "completed"
    },
    "tags": []
   },
   "outputs": [
    {
     "data": {
      "text/plain": [
       "509"
      ]
     },
     "execution_count": 23,
     "metadata": {},
     "output_type": "execute_result"
    }
   ],
   "source": [
    "# Number of cities after ceaning\n",
    "data[\"BillingCity\"].nunique()"
   ]
  },
  {
   "cell_type": "code",
   "execution_count": 24,
   "metadata": {
    "execution": {
     "iopub.execute_input": "2021-01-26T12:00:05.610692Z",
     "iopub.status.busy": "2021-01-26T12:00:05.610024Z",
     "iopub.status.idle": "2021-01-26T12:00:05.816167Z",
     "shell.execute_reply": "2021-01-26T12:00:05.815632Z"
    },
    "papermill": {
     "duration": 0.25965,
     "end_time": "2021-01-26T12:00:05.816305",
     "exception": false,
     "start_time": "2021-01-26T12:00:05.556655",
     "status": "completed"
    },
    "tags": []
   },
   "outputs": [],
   "source": [
    "single_word_cities = data[data[\"BillingCity\"].str.split().apply(len) == 1][\"BillingCity\"].unique()"
   ]
  },
  {
   "cell_type": "markdown",
   "metadata": {
    "papermill": {
     "duration": 0.048745,
     "end_time": "2021-01-26T12:00:05.914691",
     "exception": false,
     "start_time": "2021-01-26T12:00:05.865946",
     "status": "completed"
    },
    "tags": []
   },
   "source": [
    "# **EDA**"
   ]
  },
  {
   "cell_type": "markdown",
   "metadata": {
    "papermill": {
     "duration": 0.048495,
     "end_time": "2021-01-26T12:00:06.012703",
     "exception": false,
     "start_time": "2021-01-26T12:00:05.964208",
     "status": "completed"
    },
    "tags": []
   },
   "source": [
    "Number of books sold per billing city"
   ]
  },
  {
   "cell_type": "code",
   "execution_count": 25,
   "metadata": {
    "execution": {
     "iopub.execute_input": "2021-01-26T12:00:06.121748Z",
     "iopub.status.busy": "2021-01-26T12:00:06.121092Z",
     "iopub.status.idle": "2021-01-26T12:00:06.136186Z",
     "shell.execute_reply": "2021-01-26T12:00:06.135533Z"
    },
    "papermill": {
     "duration": 0.074509,
     "end_time": "2021-01-26T12:00:06.136320",
     "exception": false,
     "start_time": "2021-01-26T12:00:06.061811",
     "status": "completed"
    },
    "tags": []
   },
   "outputs": [],
   "source": [
    "books_sold_per_city = data.groupby(by=\"BillingCity\")[\"BookName\"].count().sort_values(ascending=False)"
   ]
  },
  {
   "cell_type": "code",
   "execution_count": 26,
   "metadata": {
    "execution": {
     "iopub.execute_input": "2021-01-26T12:00:06.242650Z",
     "iopub.status.busy": "2021-01-26T12:00:06.241675Z",
     "iopub.status.idle": "2021-01-26T12:00:06.246056Z",
     "shell.execute_reply": "2021-01-26T12:00:06.246558Z"
    },
    "papermill": {
     "duration": 0.061032,
     "end_time": "2021-01-26T12:00:06.246702",
     "exception": false,
     "start_time": "2021-01-26T12:00:06.185670",
     "status": "completed"
    },
    "tags": []
   },
   "outputs": [
    {
     "data": {
      "text/plain": [
       "BillingCity\n",
       "karachi       6018\n",
       "lahore        4659\n",
       "islamabad     2586\n",
       "rawalpindi    1442\n",
       "faisalabad    1010\n",
       "multan         959\n",
       "peshawar       924\n",
       "gujranwala     600\n",
       "sialkot        592\n",
       "kasur          525\n",
       "hyderabad      478\n",
       "jhang          463\n",
       "quetta         402\n",
       "dadu           365\n",
       "kohat          363\n",
       "okara          341\n",
       "bahawalpur     340\n",
       "sargodha       332\n",
       "bannu          327\n",
       "gujrat         294\n",
       "Name: BookName, dtype: int64"
      ]
     },
     "execution_count": 26,
     "metadata": {},
     "output_type": "execute_result"
    }
   ],
   "source": [
    "# Top 20 Cities\n",
    "books_sold_per_city.head(20)"
   ]
  },
  {
   "cell_type": "code",
   "execution_count": 27,
   "metadata": {
    "execution": {
     "iopub.execute_input": "2021-01-26T12:00:06.399829Z",
     "iopub.status.busy": "2021-01-26T12:00:06.399158Z",
     "iopub.status.idle": "2021-01-26T12:00:06.786563Z",
     "shell.execute_reply": "2021-01-26T12:00:06.787118Z"
    },
    "papermill": {
     "duration": 0.470088,
     "end_time": "2021-01-26T12:00:06.787254",
     "exception": false,
     "start_time": "2021-01-26T12:00:06.317166",
     "status": "completed"
    },
    "tags": []
   },
   "outputs": [
    {
     "data": {
      "image/png": "[encoded data removed]",
      "text/plain": [
       "<Figure size 1152x432 with 1 Axes>"
      ]
     },
     "metadata": {
      "needs_background": "light"
     },
     "output_type": "display_data"
    }
   ],
   "source": [
    "import matplotlib.pyplot as plt\n",
    "import seaborn as sns\n",
    "plt.figure(figsize=(16, 6))\n",
    "ax = sns.barplot(books_sold_per_city[:15].index,books_sold_per_city[:15].values)"
   ]
  },
  {
   "cell_type": "markdown",
   "metadata": {
    "papermill": {
     "duration": 0.050698,
     "end_time": "2021-01-26T12:00:06.889791",
     "exception": false,
     "start_time": "2021-01-26T12:00:06.839093",
     "status": "completed"
    },
    "tags": []
   },
   "source": [
    "**Top selling books on Gufhtugu** "
   ]
  },
  {
   "cell_type": "code",
   "execution_count": 28,
   "metadata": {
    "execution": {
     "iopub.execute_input": "2021-01-26T12:00:06.995191Z",
     "iopub.status.busy": "2021-01-26T12:00:06.994606Z",
     "iopub.status.idle": "2021-01-26T12:00:07.015413Z",
     "shell.execute_reply": "2021-01-26T12:00:07.015908Z"
    },
    "papermill": {
     "duration": 0.075064,
     "end_time": "2021-01-26T12:00:07.016054",
     "exception": false,
     "start_time": "2021-01-26T12:00:06.940990",
     "status": "completed"
    },
    "tags": []
   },
   "outputs": [],
   "source": [
    "top_selling = data[\"BookName\"].value_counts()"
   ]
  },
  {
   "cell_type": "code",
   "execution_count": 29,
   "metadata": {
    "execution": {
     "iopub.execute_input": "2021-01-26T12:00:07.123411Z",
     "iopub.status.busy": "2021-01-26T12:00:07.122780Z",
     "iopub.status.idle": "2021-01-26T12:00:07.131059Z",
     "shell.execute_reply": "2021-01-26T12:00:07.131646Z"
    },
    "papermill": {
     "duration": 0.063975,
     "end_time": "2021-01-26T12:00:07.131779",
     "exception": false,
     "start_time": "2021-01-26T12:00:07.067804",
     "status": "completed"
    },
    "tags": []
   },
   "outputs": [
    {
     "data": {
      "text/plain": [
       "انٹرنیٹ سے پیسہ کمائیں                          3497\n",
       "python programming                              2396\n",
       "artificial intelligence                         2092\n",
       "blockchain, cryptocurrency and bitcoin          1888\n",
       "product management                              1553\n",
       "justju ka safar-1                               1488\n",
       "ڈیٹا سائنس                                       959\n",
       "مشین لرننگ                                       836\n",
       "sukkur to florida                                685\n",
       "(c++)                                            655\n",
       "r ka taaruf                                      619\n",
       "introduction to blockchain with case studies     591\n",
       "molo masali                                      588\n",
       "ڈیٹا سائنس ۔ ایک تعارف                           570\n",
       "lucky draw - free book                           537\n",
       "kaggle for begginers                             492\n",
       "ایک تھا الگورتھم                                 476\n",
       "column nigari kese sekhain                       463\n",
       "linux - an introduction                          458\n",
       "muslim youth science and islam                   407\n",
       "Name: BookName, dtype: int64"
      ]
     },
     "execution_count": 29,
     "metadata": {},
     "output_type": "execute_result"
    }
   ],
   "source": [
    "top_selling[:20]"
   ]
  },
  {
   "cell_type": "code",
   "execution_count": 30,
   "metadata": {
    "execution": {
     "iopub.execute_input": "2021-01-26T12:00:07.239329Z",
     "iopub.status.busy": "2021-01-26T12:00:07.238638Z",
     "iopub.status.idle": "2021-01-26T12:00:07.512468Z",
     "shell.execute_reply": "2021-01-26T12:00:07.511866Z"
    },
    "papermill": {
     "duration": 0.32915,
     "end_time": "2021-01-26T12:00:07.512601",
     "exception": false,
     "start_time": "2021-01-26T12:00:07.183451",
     "status": "completed"
    },
    "tags": []
   },
   "outputs": [
    {
     "data": {
      "text/plain": [
       "<matplotlib.axes._subplots.AxesSubplot at 0x7f510a9e7f50>"
      ]
     },
     "execution_count": 30,
     "metadata": {},
     "output_type": "execute_result"
    },
    {
     "name": "stderr",
     "output_type": "stream",
     "text": [
      "/opt/conda/lib/python3.7/site-packages/matplotlib/backends/backend_agg.py:214: RuntimeWarning: Glyph 1746 missing from current font.\n",
      "  font.set_text(s, 0.0, flags=flags)\n",
      "/opt/conda/lib/python3.7/site-packages/matplotlib/backends/backend_agg.py:214: RuntimeWarning: Glyph 1729 missing from current font.\n",
      "  font.set_text(s, 0.0, flags=flags)\n",
      "/opt/conda/lib/python3.7/site-packages/matplotlib/backends/backend_agg.py:214: RuntimeWarning: Glyph 1748 missing from current font.\n",
      "  font.set_text(s, 0.0, flags=flags)\n",
      "/opt/conda/lib/python3.7/site-packages/matplotlib/backends/backend_agg.py:183: RuntimeWarning: Glyph 1746 missing from current font.\n",
      "  font.set_text(s, 0, flags=flags)\n",
      "/opt/conda/lib/python3.7/site-packages/matplotlib/backends/backend_agg.py:183: RuntimeWarning: Glyph 1729 missing from current font.\n",
      "  font.set_text(s, 0, flags=flags)\n",
      "/opt/conda/lib/python3.7/site-packages/matplotlib/backends/backend_agg.py:183: RuntimeWarning: Glyph 1748 missing from current font.\n",
      "  font.set_text(s, 0, flags=flags)\n"
     ]
    },
    {
     "data": {
      "image/png": "[encoded data removed]",
      "text/plain": [
       "<Figure size 432x288 with 1 Axes>"
      ]
     },
     "metadata": {
      "needs_background": "light"
     },
     "output_type": "display_data"
    }
   ],
   "source": [
    "top_selling[:20].plot.bar()"
   ]
  },
  {
   "cell_type": "code",
   "execution_count": 31,
   "metadata": {
    "execution": {
     "iopub.execute_input": "2021-01-26T12:00:07.629924Z",
     "iopub.status.busy": "2021-01-26T12:00:07.629259Z",
     "iopub.status.idle": "2021-01-26T12:00:07.633835Z",
     "shell.execute_reply": "2021-01-26T12:00:07.633063Z"
    },
    "papermill": {
     "duration": 0.067001,
     "end_time": "2021-01-26T12:00:07.633980",
     "exception": false,
     "start_time": "2021-01-26T12:00:07.566979",
     "status": "completed"
    },
    "tags": []
   },
   "outputs": [],
   "source": [
    "order_status = data[\"OrderStatus\"].value_counts()"
   ]
  },
  {
   "cell_type": "code",
   "execution_count": 32,
   "metadata": {
    "execution": {
     "iopub.execute_input": "2021-01-26T12:00:07.803401Z",
     "iopub.status.busy": "2021-01-26T12:00:07.802733Z",
     "iopub.status.idle": "2021-01-26T12:00:07.806344Z",
     "shell.execute_reply": "2021-01-26T12:00:07.805750Z"
    },
    "papermill": {
     "duration": 0.090648,
     "end_time": "2021-01-26T12:00:07.806451",
     "exception": false,
     "start_time": "2021-01-26T12:00:07.715803",
     "status": "completed"
    },
    "tags": []
   },
   "outputs": [
    {
     "data": {
      "text/plain": [
       "Completed    30651\n",
       "Returned      2396\n",
       "Canceled        44\n",
       "Name: OrderStatus, dtype: int64"
      ]
     },
     "execution_count": 32,
     "metadata": {},
     "output_type": "execute_result"
    }
   ],
   "source": [
    "order_status"
   ]
  },
  {
   "cell_type": "code",
   "execution_count": 33,
   "metadata": {
    "execution": {
     "iopub.execute_input": "2021-01-26T12:00:07.928875Z",
     "iopub.status.busy": "2021-01-26T12:00:07.928084Z",
     "iopub.status.idle": "2021-01-26T12:00:07.933763Z",
     "shell.execute_reply": "2021-01-26T12:00:07.933037Z"
    },
    "papermill": {
     "duration": 0.072719,
     "end_time": "2021-01-26T12:00:07.933871",
     "exception": false,
     "start_time": "2021-01-26T12:00:07.861152",
     "status": "completed"
    },
    "tags": []
   },
   "outputs": [
    {
     "data": {
      "text/plain": [
       "BillingCity\n",
       "karachi         10\n",
       "dgknawabshah     6\n",
       "lahore           6\n",
       "kasur            3\n",
       "rawalpindi       2\n",
       "peshawar         2\n",
       "faisalabad       2\n",
       "islamabad        2\n",
       "jhang            1\n",
       "hasilpur         1\n",
       "hyderabad        1\n",
       "zhob             1\n",
       "jhelum           1\n",
       "sargodha         1\n",
       "larkana          1\n",
       "loralai          1\n",
       "mardan           1\n",
       "mir’s            1\n",
       "chiniot          1\n",
       "Name: BillingCity, dtype: int64"
      ]
     },
     "execution_count": 33,
     "metadata": {},
     "output_type": "execute_result"
    }
   ],
   "source": [
    "data[data[\"OrderStatus\"] == \"Canceled\"].groupby(by=[\"BillingCity\"])[\"BillingCity\"].count().sort_values(ascending=False)"
   ]
  },
  {
   "cell_type": "code",
   "execution_count": 34,
   "metadata": {
    "execution": {
     "iopub.execute_input": "2021-01-26T12:00:08.053971Z",
     "iopub.status.busy": "2021-01-26T12:00:08.053008Z",
     "iopub.status.idle": "2021-01-26T12:00:08.064337Z",
     "shell.execute_reply": "2021-01-26T12:00:08.064812Z"
    },
    "papermill": {
     "duration": 0.075976,
     "end_time": "2021-01-26T12:00:08.064953",
     "exception": false,
     "start_time": "2021-01-26T12:00:07.988977",
     "status": "completed"
    },
    "tags": []
   },
   "outputs": [
    {
     "data": {
      "text/plain": [
       "BillingCity\n",
       "karachi       378\n",
       "islamabad     253\n",
       "lahore        250\n",
       "rawalpindi    105\n",
       "chaman         79\n",
       "             ... \n",
       "chitral         1\n",
       "naushahro       1\n",
       "nooriabad       1\n",
       "hgfhgfdh        1\n",
       "103             1\n",
       "Name: BillingCity, Length: 185, dtype: int64"
      ]
     },
     "execution_count": 34,
     "metadata": {},
     "output_type": "execute_result"
    }
   ],
   "source": [
    "data[data[\"OrderStatus\"] == \"Returned\"].groupby(by=[\"BillingCity\"])[\"BillingCity\"].count().sort_values(ascending=False)"
   ]
  },
  {
   "cell_type": "code",
   "execution_count": 35,
   "metadata": {
    "execution": {
     "iopub.execute_input": "2021-01-26T12:00:08.193484Z",
     "iopub.status.busy": "2021-01-26T12:00:08.192823Z",
     "iopub.status.idle": "2021-01-26T12:00:08.204304Z",
     "shell.execute_reply": "2021-01-26T12:00:08.204780Z"
    },
    "papermill": {
     "duration": 0.083082,
     "end_time": "2021-01-26T12:00:08.204916",
     "exception": false,
     "start_time": "2021-01-26T12:00:08.121834",
     "status": "completed"
    },
    "tags": []
   },
   "outputs": [
    {
     "data": {
      "text/plain": [
       "BillingCity   BookName                                         \n",
       "chiniot       ارفع کریم                                            1\n",
       "dgknawabshah  artificial intelligence                              1\n",
       "              blockchain, cryptocurrency and bitcoin               1\n",
       "              python programming                                   1\n",
       "              r ka taaruf                                          1\n",
       "              انٹرنیٹ سے پیسہ کمائیں                               1\n",
       "              ڈیٹا سائنس                                           1\n",
       "faisalabad    blockchain, cryptocurrency and bitcoin               1\n",
       "              انٹرنیٹ سے پیسہ کمائیں                               1\n",
       "hasilpur      python programming                                   1\n",
       "hyderabad     (c++)                                                1\n",
       "islamabad     blockchain, cryptocurrency and bitcoin               1\n",
       "              hazrat junaid baghdadi                               1\n",
       "jhang         artificial intelligence                              1\n",
       "jhelum        product management                                   1\n",
       "karachi       artificial intelligence                              2\n",
       "              blockchain, cryptocurrency and bitcoin               2\n",
       "              gosha e tanhai                                       1\n",
       "              introduction to blockchain with case studies         1\n",
       "              justju ka safar-1                                    1\n",
       "              product management                                   1\n",
       "              python programming- release date: august 14, 2020    1\n",
       "              انٹرنیٹ سے پیسہ کمائیں                               1\n",
       "kasur         (c++)                                                1\n",
       "              digest kahaniyan                                     1\n",
       "              hairat kadah - 2                                     1\n",
       "lahore        python programming- release date: august 14, 2020    2\n",
       "              sukkur to florida                                    2\n",
       "              the journey within                                   2\n",
       "larkana       artificial intelligence                              1\n",
       "loralai       gosha e tanhai                                       1\n",
       "mardan        artificial intelligence                              1\n",
       "mir’s         artificial intelligence                              1\n",
       "peshawar      sheikh chilli or burdah firosh giroh                 1\n",
       "              tarzan or wadi koh kaf                               1\n",
       "rawalpindi    harch                                                1\n",
       "              انٹرنیٹ سے پیسہ کمائیں                               1\n",
       "sargodha      python programming                                   1\n",
       "zhob          blockchain, cryptocurrency and bitcoin               1\n",
       "Name: BookName, dtype: int64"
      ]
     },
     "execution_count": 35,
     "metadata": {},
     "output_type": "execute_result"
    }
   ],
   "source": [
    "data[data[\"OrderStatus\"] == \"Canceled\"].groupby(by=[\"BillingCity\",\"BookName\"])[\"BookName\"].count()"
   ]
  },
  {
   "cell_type": "code",
   "execution_count": 36,
   "metadata": {
    "execution": {
     "iopub.execute_input": "2021-01-26T12:00:08.320536Z",
     "iopub.status.busy": "2021-01-26T12:00:08.319900Z",
     "iopub.status.idle": "2021-01-26T12:00:08.345186Z",
     "shell.execute_reply": "2021-01-26T12:00:08.345820Z"
    },
    "papermill": {
     "duration": 0.084955,
     "end_time": "2021-01-26T12:00:08.345950",
     "exception": false,
     "start_time": "2021-01-26T12:00:08.260995",
     "status": "completed"
    },
    "tags": []
   },
   "outputs": [
    {
     "data": {
      "text/plain": [
       "BillingCity  BookName                              \n",
       "lahore       انٹرنیٹ سے پیسہ کمائیں                    51\n",
       "karachi      انٹرنیٹ سے پیسہ کمائیں                    39\n",
       "             blockchain, cryptocurrency and bitcoin    23\n",
       "             ڈیٹا سائنس                                21\n",
       "             python programming                        21\n",
       "                                                       ..\n",
       "lahore       bar sabeel-e-safar                         1\n",
       "             asbaq e tareekh                            1\n",
       "             alfaz ka jadu                              1\n",
       "             adhoray gunnah                             1\n",
       "103          انٹرنیٹ سے پیسہ کمائیں                     1\n",
       "Name: BookName, Length: 1102, dtype: int64"
      ]
     },
     "execution_count": 36,
     "metadata": {},
     "output_type": "execute_result"
    }
   ],
   "source": [
    "data[data[\"OrderStatus\"] == \"Returned\"].groupby(by=[\"BillingCity\",\"BookName\"])[\"BookName\"].count().sort_values(ascending=False)"
   ]
  },
  {
   "cell_type": "markdown",
   "metadata": {
    "papermill": {
     "duration": 0.057385,
     "end_time": "2021-01-26T12:00:08.459560",
     "exception": false,
     "start_time": "2021-01-26T12:00:08.402175",
     "status": "completed"
    },
    "tags": []
   },
   "source": [
    "**Time Series analysis**"
   ]
  },
  {
   "cell_type": "code",
   "execution_count": 37,
   "metadata": {
    "execution": {
     "iopub.execute_input": "2021-01-26T12:00:08.582571Z",
     "iopub.status.busy": "2021-01-26T12:00:08.581627Z",
     "iopub.status.idle": "2021-01-26T12:00:08.585676Z",
     "shell.execute_reply": "2021-01-26T12:00:08.585114Z"
    },
    "papermill": {
     "duration": 0.068441,
     "end_time": "2021-01-26T12:00:08.585783",
     "exception": false,
     "start_time": "2021-01-26T12:00:08.517342",
     "status": "completed"
    },
    "tags": []
   },
   "outputs": [],
   "source": [
    "data.reset_index(inplace=True)"
   ]
  },
  {
   "cell_type": "code",
   "execution_count": 38,
   "metadata": {
    "execution": {
     "iopub.execute_input": "2021-01-26T12:00:08.707861Z",
     "iopub.status.busy": "2021-01-26T12:00:08.707213Z",
     "iopub.status.idle": "2021-01-26T12:00:08.711056Z",
     "shell.execute_reply": "2021-01-26T12:00:08.710446Z"
    },
    "papermill": {
     "duration": 0.068231,
     "end_time": "2021-01-26T12:00:08.711174",
     "exception": false,
     "start_time": "2021-01-26T12:00:08.642943",
     "status": "completed"
    },
    "tags": []
   },
   "outputs": [],
   "source": [
    "data.set_index(\"OrderDate\", inplace=True)"
   ]
  },
  {
   "cell_type": "code",
   "execution_count": 39,
   "metadata": {
    "execution": {
     "iopub.execute_input": "2021-01-26T12:00:08.827315Z",
     "iopub.status.busy": "2021-01-26T12:00:08.826709Z",
     "iopub.status.idle": "2021-01-26T12:00:08.843056Z",
     "shell.execute_reply": "2021-01-26T12:00:08.842497Z"
    },
    "papermill": {
     "duration": 0.075023,
     "end_time": "2021-01-26T12:00:08.843180",
     "exception": false,
     "start_time": "2021-01-26T12:00:08.768157",
     "status": "completed"
    },
    "tags": []
   },
   "outputs": [
    {
     "data": {
      "text/html": [
       "<div>\n",
       "<style scoped>\n",
       "    .dataframe tbody tr th:only-of-type {\n",
       "        vertical-align: middle;\n",
       "    }\n",
       "\n",
       "    .dataframe tbody tr th {\n",
       "        vertical-align: top;\n",
       "    }\n",
       "\n",
       "    .dataframe thead th {\n",
       "        text-align: right;\n",
       "    }\n",
       "</style>\n",
       "<table border=\"1\" class=\"dataframe\">\n",
       "  <thead>\n",
       "    <tr style=\"text-align: right;\">\n",
       "      <th></th>\n",
       "      <th>OrderNumber</th>\n",
       "      <th>OrderStatus</th>\n",
       "      <th>BookName</th>\n",
       "      <th>BillingCity</th>\n",
       "    </tr>\n",
       "    <tr>\n",
       "      <th>OrderDate</th>\n",
       "      <th></th>\n",
       "      <th></th>\n",
       "      <th></th>\n",
       "      <th></th>\n",
       "    </tr>\n",
       "  </thead>\n",
       "  <tbody>\n",
       "    <tr>\n",
       "      <th>2021-01-20 17:43:00</th>\n",
       "      <td>70978</td>\n",
       "      <td>Completed</td>\n",
       "      <td>column nigari kese sekhain</td>\n",
       "      <td>kohat</td>\n",
       "    </tr>\n",
       "    <tr>\n",
       "      <th>2021-01-20 13:37:00</th>\n",
       "      <td>70962</td>\n",
       "      <td>Completed</td>\n",
       "      <td>انٹرنیٹ سے پیسہ کمائیں</td>\n",
       "      <td>karachi</td>\n",
       "    </tr>\n",
       "    <tr>\n",
       "      <th>2021-01-20 10:48:00</th>\n",
       "      <td>70960</td>\n",
       "      <td>Completed</td>\n",
       "      <td>justju ka safar-1</td>\n",
       "      <td>karachi</td>\n",
       "    </tr>\n",
       "    <tr>\n",
       "      <th>2021-01-20 10:48:00</th>\n",
       "      <td>70960</td>\n",
       "      <td>Completed</td>\n",
       "      <td>waqfa e pareshani</td>\n",
       "      <td>karachi</td>\n",
       "    </tr>\n",
       "    <tr>\n",
       "      <th>2021-01-20 10:32:00</th>\n",
       "      <td>70959</td>\n",
       "      <td>Completed</td>\n",
       "      <td>r ka taaruf</td>\n",
       "      <td>karachi</td>\n",
       "    </tr>\n",
       "  </tbody>\n",
       "</table>\n",
       "</div>"
      ],
      "text/plain": [
       "                     OrderNumber OrderStatus                    BookName  \\\n",
       "OrderDate                                                                  \n",
       "2021-01-20 17:43:00        70978   Completed  column nigari kese sekhain   \n",
       "2021-01-20 13:37:00        70962   Completed      انٹرنیٹ سے پیسہ کمائیں   \n",
       "2021-01-20 10:48:00        70960   Completed           justju ka safar-1   \n",
       "2021-01-20 10:48:00        70960   Completed           waqfa e pareshani   \n",
       "2021-01-20 10:32:00        70959   Completed                 r ka taaruf   \n",
       "\n",
       "                    BillingCity  \n",
       "OrderDate                        \n",
       "2021-01-20 17:43:00       kohat  \n",
       "2021-01-20 13:37:00     karachi  \n",
       "2021-01-20 10:48:00     karachi  \n",
       "2021-01-20 10:48:00     karachi  \n",
       "2021-01-20 10:32:00     karachi  "
      ]
     },
     "execution_count": 39,
     "metadata": {},
     "output_type": "execute_result"
    }
   ],
   "source": [
    "data.head()"
   ]
  },
  {
   "cell_type": "markdown",
   "metadata": {
    "papermill": {
     "duration": 0.05825,
     "end_time": "2021-01-26T12:00:08.959226",
     "exception": false,
     "start_time": "2021-01-26T12:00:08.900976",
     "status": "completed"
    },
    "tags": []
   },
   "source": [
    "Books Sold per week"
   ]
  },
  {
   "cell_type": "code",
   "execution_count": 40,
   "metadata": {
    "execution": {
     "iopub.execute_input": "2021-01-26T12:00:09.080228Z",
     "iopub.status.busy": "2021-01-26T12:00:09.079329Z",
     "iopub.status.idle": "2021-01-26T12:00:09.307252Z",
     "shell.execute_reply": "2021-01-26T12:00:09.307806Z"
    },
    "papermill": {
     "duration": 0.290566,
     "end_time": "2021-01-26T12:00:09.307938",
     "exception": false,
     "start_time": "2021-01-26T12:00:09.017372",
     "status": "completed"
    },
    "tags": []
   },
   "outputs": [
    {
     "data": {
      "text/plain": [
       "[Text(0, 0.5, 'Count'), Text(0.5, 0, 'Week')]"
      ]
     },
     "execution_count": 40,
     "metadata": {},
     "output_type": "execute_result"
    },
    {
     "data": {
      "image/png": "[encoded data removed]",
      "text/plain": [
       "<Figure size 864x432 with 1 Axes>"
      ]
     },
     "metadata": {
      "needs_background": "light"
     },
     "output_type": "display_data"
    }
   ],
   "source": [
    "title = \"Gufhtugu: books sold per week\"\n",
    "ax = data.resample(\"W\")[\"BookName\"].count().plot(figsize=(12,6), title=title)\n",
    "ax.set(xlabel=\"Week\", ylabel=\"Count\")\n"
   ]
  },
  {
   "cell_type": "markdown",
   "metadata": {
    "papermill": {
     "duration": 0.058358,
     "end_time": "2021-01-26T12:00:09.425056",
     "exception": false,
     "start_time": "2021-01-26T12:00:09.366698",
     "status": "completed"
    },
    "tags": []
   },
   "source": [
    "Books sold each month"
   ]
  },
  {
   "cell_type": "code",
   "execution_count": 41,
   "metadata": {
    "execution": {
     "iopub.execute_input": "2021-01-26T12:00:09.549796Z",
     "iopub.status.busy": "2021-01-26T12:00:09.548939Z",
     "iopub.status.idle": "2021-01-26T12:00:09.777157Z",
     "shell.execute_reply": "2021-01-26T12:00:09.776254Z"
    },
    "papermill": {
     "duration": 0.293059,
     "end_time": "2021-01-26T12:00:09.777324",
     "exception": false,
     "start_time": "2021-01-26T12:00:09.484265",
     "status": "completed"
    },
    "tags": []
   },
   "outputs": [
    {
     "data": {
      "text/plain": [
       "[Text(0, 0.5, 'Count'), Text(0.5, 0, 'Month')]"
      ]
     },
     "execution_count": 41,
     "metadata": {},
     "output_type": "execute_result"
    },
    {
     "data": {
      "image/png": "[encoded data removed]",
      "text/plain": [
       "<Figure size 864x432 with 1 Axes>"
      ]
     },
     "metadata": {
      "needs_background": "light"
     },
     "output_type": "display_data"
    }
   ],
   "source": [
    "title = \"Gufhtugu: books sold per month\"\n",
    "ax = data.resample(\"M\")[\"BookName\"].count().plot(figsize=(12,6), title=title)\n",
    "ax.set(xlabel=\"Month\", ylabel=\"Count\")"
   ]
  },
  {
   "cell_type": "code",
   "execution_count": 42,
   "metadata": {
    "execution": {
     "iopub.execute_input": "2021-01-26T12:00:09.972521Z",
     "iopub.status.busy": "2021-01-26T12:00:09.971455Z",
     "iopub.status.idle": "2021-01-26T12:00:09.994503Z",
     "shell.execute_reply": "2021-01-26T12:00:09.993734Z"
    },
    "papermill": {
     "duration": 0.117873,
     "end_time": "2021-01-26T12:00:09.994638",
     "exception": false,
     "start_time": "2021-01-26T12:00:09.876765",
     "status": "completed"
    },
    "tags": []
   },
   "outputs": [
    {
     "data": {
      "text/html": [
       "<div>\n",
       "<style scoped>\n",
       "    .dataframe tbody tr th:only-of-type {\n",
       "        vertical-align: middle;\n",
       "    }\n",
       "\n",
       "    .dataframe tbody tr th {\n",
       "        vertical-align: top;\n",
       "    }\n",
       "\n",
       "    .dataframe thead th {\n",
       "        text-align: right;\n",
       "    }\n",
       "</style>\n",
       "<table border=\"1\" class=\"dataframe\">\n",
       "  <thead>\n",
       "    <tr style=\"text-align: right;\">\n",
       "      <th></th>\n",
       "      <th>BooksSold</th>\n",
       "    </tr>\n",
       "    <tr>\n",
       "      <th>OrderDate</th>\n",
       "      <th></th>\n",
       "    </tr>\n",
       "  </thead>\n",
       "  <tbody>\n",
       "    <tr>\n",
       "      <th>2019-10-03</th>\n",
       "      <td>16</td>\n",
       "    </tr>\n",
       "    <tr>\n",
       "      <th>2019-10-04</th>\n",
       "      <td>0</td>\n",
       "    </tr>\n",
       "    <tr>\n",
       "      <th>2019-10-05</th>\n",
       "      <td>0</td>\n",
       "    </tr>\n",
       "    <tr>\n",
       "      <th>2019-10-06</th>\n",
       "      <td>0</td>\n",
       "    </tr>\n",
       "    <tr>\n",
       "      <th>2019-10-07</th>\n",
       "      <td>0</td>\n",
       "    </tr>\n",
       "  </tbody>\n",
       "</table>\n",
       "</div>"
      ],
      "text/plain": [
       "            BooksSold\n",
       "OrderDate            \n",
       "2019-10-03         16\n",
       "2019-10-04          0\n",
       "2019-10-05          0\n",
       "2019-10-06          0\n",
       "2019-10-07          0"
      ]
     },
     "execution_count": 42,
     "metadata": {},
     "output_type": "execute_result"
    }
   ],
   "source": [
    "day_wise_data = pd.DataFrame(data.resample(\"D\")[\"BookName\"].count().rename(\"BooksSold\"))\n",
    "day_wise_data.head()"
   ]
  },
  {
   "cell_type": "code",
   "execution_count": 43,
   "metadata": {
    "execution": {
     "iopub.execute_input": "2021-01-26T12:00:10.192969Z",
     "iopub.status.busy": "2021-01-26T12:00:10.192058Z",
     "iopub.status.idle": "2021-01-26T12:00:10.195494Z",
     "shell.execute_reply": "2021-01-26T12:00:10.196150Z"
    },
    "papermill": {
     "duration": 0.110607,
     "end_time": "2021-01-26T12:00:10.196351",
     "exception": false,
     "start_time": "2021-01-26T12:00:10.085744",
     "status": "completed"
    },
    "tags": []
   },
   "outputs": [
    {
     "data": {
      "text/html": [
       "<div>\n",
       "<style scoped>\n",
       "    .dataframe tbody tr th:only-of-type {\n",
       "        vertical-align: middle;\n",
       "    }\n",
       "\n",
       "    .dataframe tbody tr th {\n",
       "        vertical-align: top;\n",
       "    }\n",
       "\n",
       "    .dataframe thead th {\n",
       "        text-align: right;\n",
       "    }\n",
       "</style>\n",
       "<table border=\"1\" class=\"dataframe\">\n",
       "  <thead>\n",
       "    <tr style=\"text-align: right;\">\n",
       "      <th></th>\n",
       "      <th>BooksSold</th>\n",
       "      <th>BooksSold_7day_mean</th>\n",
       "    </tr>\n",
       "    <tr>\n",
       "      <th>OrderDate</th>\n",
       "      <th></th>\n",
       "      <th></th>\n",
       "    </tr>\n",
       "  </thead>\n",
       "  <tbody>\n",
       "    <tr>\n",
       "      <th>2019-10-03</th>\n",
       "      <td>16</td>\n",
       "      <td>NaN</td>\n",
       "    </tr>\n",
       "    <tr>\n",
       "      <th>2019-10-04</th>\n",
       "      <td>0</td>\n",
       "      <td>NaN</td>\n",
       "    </tr>\n",
       "    <tr>\n",
       "      <th>2019-10-05</th>\n",
       "      <td>0</td>\n",
       "      <td>NaN</td>\n",
       "    </tr>\n",
       "    <tr>\n",
       "      <th>2019-10-06</th>\n",
       "      <td>0</td>\n",
       "      <td>NaN</td>\n",
       "    </tr>\n",
       "    <tr>\n",
       "      <th>2019-10-07</th>\n",
       "      <td>0</td>\n",
       "      <td>NaN</td>\n",
       "    </tr>\n",
       "  </tbody>\n",
       "</table>\n",
       "</div>"
      ],
      "text/plain": [
       "            BooksSold  BooksSold_7day_mean\n",
       "OrderDate                                 \n",
       "2019-10-03         16                  NaN\n",
       "2019-10-04          0                  NaN\n",
       "2019-10-05          0                  NaN\n",
       "2019-10-06          0                  NaN\n",
       "2019-10-07          0                  NaN"
      ]
     },
     "execution_count": 43,
     "metadata": {},
     "output_type": "execute_result"
    }
   ],
   "source": [
    "day_wise_data[\"BooksSold_7day_mean\"] = day_wise_data.rolling(7).mean()\n",
    "day_wise_data.head()"
   ]
  },
  {
   "cell_type": "markdown",
   "metadata": {
    "papermill": {
     "duration": 0.09348,
     "end_time": "2021-01-26T12:00:10.382865",
     "exception": false,
     "start_time": "2021-01-26T12:00:10.289385",
     "status": "completed"
    },
    "tags": []
   },
   "source": [
    "Current trend "
   ]
  },
  {
   "cell_type": "code",
   "execution_count": 44,
   "metadata": {
    "execution": {
     "iopub.execute_input": "2021-01-26T12:00:10.549797Z",
     "iopub.status.busy": "2021-01-26T12:00:10.549067Z",
     "iopub.status.idle": "2021-01-26T12:00:10.765496Z",
     "shell.execute_reply": "2021-01-26T12:00:10.764831Z"
    },
    "papermill": {
     "duration": 0.288826,
     "end_time": "2021-01-26T12:00:10.765607",
     "exception": false,
     "start_time": "2021-01-26T12:00:10.476781",
     "status": "completed"
    },
    "tags": []
   },
   "outputs": [
    {
     "data": {
      "image/png": "[encoded data removed]",
      "text/plain": [
       "<Figure size 1152x432 with 1 Axes>"
      ]
     },
     "metadata": {
      "needs_background": "light"
     },
     "output_type": "display_data"
    }
   ],
   "source": [
    "ax = day_wise_data.plot(figsize=(16,6))"
   ]
  },
  {
   "cell_type": "markdown",
   "metadata": {
    "papermill": {
     "duration": 0.063426,
     "end_time": "2021-01-26T12:00:10.893226",
     "exception": false,
     "start_time": "2021-01-26T12:00:10.829800",
     "status": "completed"
    },
    "tags": []
   },
   "source": [
    "  **Statsmodels: hodrick prescott filter**"
   ]
  },
  {
   "cell_type": "code",
   "execution_count": 45,
   "metadata": {
    "execution": {
     "iopub.execute_input": "2021-01-26T12:00:11.030972Z",
     "iopub.status.busy": "2021-01-26T12:00:11.029962Z",
     "iopub.status.idle": "2021-01-26T12:00:11.048384Z",
     "shell.execute_reply": "2021-01-26T12:00:11.047637Z"
    },
    "papermill": {
     "duration": 0.090735,
     "end_time": "2021-01-26T12:00:11.048506",
     "exception": false,
     "start_time": "2021-01-26T12:00:10.957771",
     "status": "completed"
    },
    "tags": []
   },
   "outputs": [],
   "source": [
    "from statsmodels.tsa.filters.hp_filter import hpfilter"
   ]
  },
  {
   "cell_type": "code",
   "execution_count": 46,
   "metadata": {
    "execution": {
     "iopub.execute_input": "2021-01-26T12:00:11.185334Z",
     "iopub.status.busy": "2021-01-26T12:00:11.184375Z",
     "iopub.status.idle": "2021-01-26T12:00:11.208521Z",
     "shell.execute_reply": "2021-01-26T12:00:11.207951Z"
    },
    "papermill": {
     "duration": 0.095279,
     "end_time": "2021-01-26T12:00:11.208633",
     "exception": false,
     "start_time": "2021-01-26T12:00:11.113354",
     "status": "completed"
    },
    "tags": []
   },
   "outputs": [],
   "source": [
    "month_wise_data = pd.DataFrame(data.resample(\"M\")[\"BookName\"].count().rename(\"BooksSold\"))"
   ]
  },
  {
   "cell_type": "code",
   "execution_count": 47,
   "metadata": {
    "execution": {
     "iopub.execute_input": "2021-01-26T12:00:11.344491Z",
     "iopub.status.busy": "2021-01-26T12:00:11.342826Z",
     "iopub.status.idle": "2021-01-26T12:00:11.359699Z",
     "shell.execute_reply": "2021-01-26T12:00:11.359129Z"
    },
    "papermill": {
     "duration": 0.086754,
     "end_time": "2021-01-26T12:00:11.359818",
     "exception": false,
     "start_time": "2021-01-26T12:00:11.273064",
     "status": "completed"
    },
    "tags": []
   },
   "outputs": [],
   "source": [
    "sell_cycle, sell_trend = hpfilter(day_wise_data[\"BooksSold\"], lamb=129600)"
   ]
  },
  {
   "cell_type": "code",
   "execution_count": 48,
   "metadata": {
    "execution": {
     "iopub.execute_input": "2021-01-26T12:00:11.501920Z",
     "iopub.status.busy": "2021-01-26T12:00:11.497574Z",
     "iopub.status.idle": "2021-01-26T12:00:11.689224Z",
     "shell.execute_reply": "2021-01-26T12:00:11.689732Z"
    },
    "papermill": {
     "duration": 0.265525,
     "end_time": "2021-01-26T12:00:11.689885",
     "exception": false,
     "start_time": "2021-01-26T12:00:11.424360",
     "status": "completed"
    },
    "tags": []
   },
   "outputs": [
    {
     "data": {
      "text/plain": [
       "<matplotlib.axes._subplots.AxesSubplot at 0x7f510a58da10>"
      ]
     },
     "execution_count": 48,
     "metadata": {},
     "output_type": "execute_result"
    },
    {
     "data": {
      "image/png": "[encoded data removed]",
      "text/plain": [
       "<Figure size 1152x432 with 1 Axes>"
      ]
     },
     "metadata": {
      "needs_background": "light"
     },
     "output_type": "display_data"
    }
   ],
   "source": [
    "sell_trend.plot(figsize=(16,6))"
   ]
  },
  {
   "cell_type": "code",
   "execution_count": 49,
   "metadata": {
    "execution": {
     "iopub.execute_input": "2021-01-26T12:00:11.854243Z",
     "iopub.status.busy": "2021-01-26T12:00:11.850731Z",
     "iopub.status.idle": "2021-01-26T12:00:12.045470Z",
     "shell.execute_reply": "2021-01-26T12:00:12.044804Z"
    },
    "papermill": {
     "duration": 0.288029,
     "end_time": "2021-01-26T12:00:12.045579",
     "exception": false,
     "start_time": "2021-01-26T12:00:11.757550",
     "status": "completed"
    },
    "tags": []
   },
   "outputs": [
    {
     "data": {
      "text/plain": [
       "<matplotlib.axes._subplots.AxesSubplot at 0x7f510a5c58d0>"
      ]
     },
     "execution_count": 49,
     "metadata": {},
     "output_type": "execute_result"
    },
    {
     "data": {
      "image/png": "[encoded data removed]",
      "text/plain": [
       "<Figure size 1152x432 with 1 Axes>"
      ]
     },
     "metadata": {
      "needs_background": "light"
     },
     "output_type": "display_data"
    }
   ],
   "source": [
    "sell_cycle.plot(figsize=(16,6))"
   ]
  },
  {
   "cell_type": "markdown",
   "metadata": {
    "papermill": {
     "duration": 0.06921,
     "end_time": "2021-01-26T12:00:12.183900",
     "exception": false,
     "start_time": "2021-01-26T12:00:12.114690",
     "status": "completed"
    },
    "tags": []
   },
   "source": [
    "ETS decomposition"
   ]
  },
  {
   "cell_type": "code",
   "execution_count": 50,
   "metadata": {
    "execution": {
     "iopub.execute_input": "2021-01-26T12:00:12.328687Z",
     "iopub.status.busy": "2021-01-26T12:00:12.328032Z",
     "iopub.status.idle": "2021-01-26T12:00:12.408434Z",
     "shell.execute_reply": "2021-01-26T12:00:12.408916Z"
    },
    "papermill": {
     "duration": 0.155183,
     "end_time": "2021-01-26T12:00:12.409061",
     "exception": false,
     "start_time": "2021-01-26T12:00:12.253878",
     "status": "completed"
    },
    "tags": []
   },
   "outputs": [],
   "source": [
    "from statsmodels.tsa.seasonal import seasonal_decompose"
   ]
  },
  {
   "cell_type": "code",
   "execution_count": 51,
   "metadata": {
    "execution": {
     "iopub.execute_input": "2021-01-26T12:00:12.552692Z",
     "iopub.status.busy": "2021-01-26T12:00:12.551914Z",
     "iopub.status.idle": "2021-01-26T12:00:12.556236Z",
     "shell.execute_reply": "2021-01-26T12:00:12.555629Z"
    },
    "papermill": {
     "duration": 0.0796,
     "end_time": "2021-01-26T12:00:12.556368",
     "exception": false,
     "start_time": "2021-01-26T12:00:12.476768",
     "status": "completed"
    },
    "tags": []
   },
   "outputs": [],
   "source": [
    "r = seasonal_decompose(day_wise_data[\"BooksSold\"])"
   ]
  },
  {
   "cell_type": "code",
   "execution_count": 52,
   "metadata": {
    "execution": {
     "iopub.execute_input": "2021-01-26T12:00:12.699219Z",
     "iopub.status.busy": "2021-01-26T12:00:12.698576Z",
     "iopub.status.idle": "2021-01-26T12:00:13.346621Z",
     "shell.execute_reply": "2021-01-26T12:00:13.346017Z"
    },
    "papermill": {
     "duration": 0.722267,
     "end_time": "2021-01-26T12:00:13.346726",
     "exception": false,
     "start_time": "2021-01-26T12:00:12.624459",
     "status": "completed"
    },
    "tags": []
   },
   "outputs": [
    {
     "data": {
      "image/png": "[encoded data removed]",
      "text/plain": [
       "<Figure size 1152x432 with 4 Axes>"
      ]
     },
     "metadata": {
      "needs_background": "light"
     },
     "output_type": "display_data"
    }
   ],
   "source": [
    "from pylab import rcParams\n",
    "rcParams[\"figure.figsize\"] = 16,6\n",
    "r.plot();"
   ]
  },
  {
   "cell_type": "code",
   "execution_count": null,
   "metadata": {
    "papermill": {
     "duration": 0.070153,
     "end_time": "2021-01-26T12:00:13.487847",
     "exception": false,
     "start_time": "2021-01-26T12:00:13.417694",
     "status": "completed"
    },
    "tags": []
   },
   "outputs": [],
   "source": []
  }
 ],
 "metadata": {
  "kernelspec": {
   "display_name": "Python 3",
   "language": "python",
   "name": "python3"
  },
  "language_info": {
   "codemirror_mode": {
    "name": "ipython",
    "version": 3
   },
   "file_extension": ".py",
   "mimetype": "text/x-python",
   "name": "python",
   "nbconvert_exporter": "python",
   "pygments_lexer": "ipython3",
   "version": "3.7.6"
  },
  "papermill": {
   "duration": 100.927901,
   "end_time": "2021-01-26T12:00:13.668300",
   "environment_variables": {},
   "exception": null,
   "input_path": "__notebook__.ipynb",
   "output_path": "__notebook__.ipynb",
   "parameters": {},
   "start_time": "2021-01-26T11:58:32.740399",
   "version": "2.1.0"
  }
 },
 "nbformat": 4,
 "nbformat_minor": 4
}
